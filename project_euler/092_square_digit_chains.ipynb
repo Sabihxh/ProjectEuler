{
 "cells": [
  {
   "cell_type": "markdown",
   "metadata": {},
   "source": [
    "### Problem 92 - Square digit chains\n",
    "\n",
    "<p>A number chain is created by continuously adding the square of the digits in a number to form a new number until it has been seen before.</p>\n",
    "<p>For example,</p>\n",
    "<p class=\"margin_left\">44 → 32 → 13 → 10 → <b>1</b> → <b>1</b><br />\n",
    "85 → <b>89</b> → 145 → 42 → 20 → 4 → 16 → 37 → 58 → <b>89</b></p>\n",
    "<p>Therefore any chain that arrives at 1 or 89 will become stuck in an endless loop. What is most amazing is that EVERY starting number will eventually arrive at 1 or 89.</p>\n",
    "<p>How many starting numbers below ten million will arrive at 89?</p>\n"
   ]
  },
  {
   "cell_type": "code",
   "execution_count": 57,
   "metadata": {},
   "outputs": [
    {
     "name": "stdout",
     "output_type": "stream",
     "text": [
      "CPU times: user 12.8 s, sys: 25 ms, total: 12.9 s\n",
      "Wall time: 12.9 s\n"
     ]
    },
    {
     "data": {
      "text/plain": [
       "856929"
      ]
     },
     "execution_count": 57,
     "metadata": {},
     "output_type": "execute_result"
    }
   ],
   "source": [
    "%%time\n",
    "\n",
    "from time import sleep\n",
    "\n",
    "def main():\n",
    "    c = 0\n",
    "    for x in range(1, 10**6):\n",
    "        y = x\n",
    "        while y not in [1, 89]:\n",
    "            y = sum([(int(i))**2 for i in list(str(y))])\n",
    "            if y == 89:\n",
    "                c += 1\n",
    "    return c + 1  # add 1 for 89 itself\n",
    "\n",
    "\n",
    "def main_slow():\n",
    "    for x in range(2, 100):\n",
    "        print(f'=== {x} ===')\n",
    "        y = x\n",
    "        while y not in [1, 89]:\n",
    "            y = sum([(int(i))**2 for i in list(str(y))])\n",
    "            print(y)\n",
    "            sleep(1)\n",
    "\n",
    "main()"
   ]
  },
  {
   "cell_type": "code",
   "execution_count": 51,
   "metadata": {},
   "outputs": [
    {
     "name": "stdout",
     "output_type": "stream",
     "text": [
      "CPU times: user 633 µs, sys: 5 µs, total: 638 µs\n",
      "Wall time: 652 µs\n"
     ]
    },
    {
     "data": {
      "text/plain": [
       "49"
      ]
     },
     "execution_count": 51,
     "metadata": {},
     "output_type": "execute_result"
    }
   ],
   "source": [
    "%%time\n",
    "\n",
    "seen_1 = set()\n",
    "seen_89 = set()\n",
    "\n",
    "def main_2():\n",
    "    c = 0\n",
    "    for x in range(1, 10*6):\n",
    "\n",
    "        y = x\n",
    "        \n",
    "        while y not in [1, 89]:\n",
    "            \n",
    "            y = sum([(int(i))**2 for i in list(str(y))])\n",
    "\n",
    "            if y in seen_1:\n",
    "                seen_1.add(x)\n",
    "                y = 1\n",
    "\n",
    "            elif y in seen_89:\n",
    "                seen_89.add(x)\n",
    "                c += 1\n",
    "                y = 89\n",
    "                \n",
    "            elif y == 89:\n",
    "                c += 1\n",
    "#             sleep(0.5)\n",
    "\n",
    "    return c + 1  # add 1 for 89 itself\n",
    "\n",
    "main_2()"
   ]
  },
  {
   "cell_type": "code",
   "execution_count": 28,
   "metadata": {},
   "outputs": [],
   "source": [
    "# Someone else's answer...much faster than mine... :/\n",
    "\n",
    "from functools import lru_cache\n",
    "from math import log10\n",
    "\n",
    "def is_happy(n):\n",
    "\n",
    "    cycle_members = {4, 16, 37, 58, 89, 145, 42, 20}\n",
    "\n",
    "    def get_next(number):\n",
    "        total_sum = 0\n",
    "        while number > 0:\n",
    "            number, digit = divmod(number, 10)\n",
    "            total_sum += digit ** 2\n",
    "        return total_sum\n",
    "\n",
    "    while n != 1 and n not in cycle_members:\n",
    "        n = get_next(n)\n",
    "\n",
    "    return n == 1\n",
    "\n",
    "@lru_cache(maxsize=None)\n",
    "def f(n, k):\n",
    "    if n == k == 0:\n",
    "        return 1\n",
    "    elif n < 0:\n",
    "        return 0\n",
    "    elif n > 0 and k == 0:\n",
    "        return 0\n",
    "    else:\n",
    "        return sum([f(n-i**2,k-1) for i in range(10)])\n",
    "\n",
    "def main(N=10**7):\n",
    "    power = int(log10(N))\n",
    "    u = 9**2*power\n",
    "    happy_numbers = [i for i in range(1,u+1) if is_happy(i)]\n",
    "    ways = sum([f(x,power) for x in happy_numbers])\n",
    "    return (N - ways - 1)"
   ]
  },
  {
   "cell_type": "code",
   "execution_count": 29,
   "metadata": {},
   "outputs": [
    {
     "data": {
      "text/plain": [
       "8581146"
      ]
     },
     "execution_count": 29,
     "metadata": {},
     "output_type": "execute_result"
    }
   ],
   "source": [
    "main()"
   ]
  },
  {
   "cell_type": "code",
   "execution_count": 30,
   "metadata": {},
   "outputs": [
    {
     "name": "stdout",
     "output_type": "stream",
     "text": [
      "8581146\n",
      "time = 10.474694967269897\n"
     ]
    }
   ],
   "source": [
    "from time import time\n",
    "start = time()\n",
    "count = 0\n",
    "seen = dict()\n",
    "for num in range(1,10000000):\n",
    "\n",
    "    digits = ''.join(sorted(str(num)))\n",
    "    if digits in seen:\n",
    "        num = seen[digits]\n",
    "    else:\n",
    "        while num != 1 and num != 89:\n",
    "            num = sum([int(i)**2 for i in str(num)])\n",
    "        seen[digits] = num\n",
    "\n",
    "    if num == 89:\n",
    "        count += 1\n",
    "print(count)\n",
    "end = time()\n",
    "print(f\"time = {end-start}\")"
   ]
  },
  {
   "cell_type": "code",
   "execution_count": 56,
   "metadata": {},
   "outputs": [
    {
     "name": "stdout",
     "output_type": "stream",
     "text": [
      "856929\n",
      "CPU times: user 8.95 s, sys: 14.6 ms, total: 8.97 s\n",
      "Wall time: 8.98 s\n"
     ]
    }
   ],
   "source": [
    "%%time\n",
    "\n",
    "def sqrDigitChains():\n",
    "    result = 0\n",
    "    checkedNum = {}\n",
    "    \n",
    "    n = 1 \n",
    "    count = 0 \n",
    "    \n",
    "    for n in range(1,10**6):\n",
    "        prevNums = []\n",
    "        while True:\n",
    "            if n in checkedNum:\n",
    "                if checkedNum[n] == 89: \n",
    "                    result += 1 \n",
    "                break \n",
    "\n",
    "            prevNums.append(n)\n",
    "\n",
    "            n = sum([int(digit)**2 for digit in list(str(n))])\n",
    "            \n",
    "            if n == 89:\n",
    "                for prevNum in prevNums:\n",
    "                    checkedNum[prevNum] = 89\n",
    "\n",
    "                result += 1 \n",
    "                break \n",
    "            if n == 1: \n",
    "                for prevNum in prevNums:\n",
    "                    checkedNum[prevNum] = 1 \n",
    "                break \n",
    "\n",
    "    print(result)\n",
    "    \n",
    "sqrDigitChains()"
   ]
  },
  {
   "cell_type": "code",
   "execution_count": null,
   "metadata": {},
   "outputs": [],
   "source": []
  }
 ],
 "metadata": {
  "kernelspec": {
   "display_name": "Python 3",
   "language": "python",
   "name": "python3"
  },
  "language_info": {
   "codemirror_mode": {
    "name": "ipython",
    "version": 3
   },
   "file_extension": ".py",
   "mimetype": "text/x-python",
   "name": "python",
   "nbconvert_exporter": "python",
   "pygments_lexer": "ipython3",
   "version": "3.7.9"
  }
 },
 "nbformat": 4,
 "nbformat_minor": 4
}
