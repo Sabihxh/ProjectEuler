{
 "cells": [
  {
   "cell_type": "markdown",
   "metadata": {},
   "source": [
    "## Utitlity Functions\n",
    "Useful functions to solve problems"
   ]
  },
  {
   "cell_type": "code",
   "execution_count": 1,
   "metadata": {},
   "outputs": [],
   "source": [
    "import math\n",
    "import time\n",
    "\n",
    "def timeit(method):\n",
    "    def timed(*args, **kw):\n",
    "        ts = time.time()\n",
    "        result = method(*args, **kw)\n",
    "        te = time.time()\n",
    "        print( '%r  %2.2f ms' % (method.__name__, (te - ts) * 1000))\n",
    "        return result\n",
    "    return timed\n",
    "\n",
    "\n",
    "def generate_primes_under(n=100):\n",
    "    \"\"\"\n",
    "    Returns list of all prime numbers <= n\n",
    "    \"\"\"\n",
    "    for possiblePrime in range(2, n + 1): # Assume number is prime until shown it is not. \n",
    "        isPrime = True\n",
    "        for num in range(2, int(possiblePrime ** 0.5) + 1):\n",
    "            if possiblePrime % num == 0:\n",
    "                isPrime = False\n",
    "                break        \n",
    "        if isPrime:\n",
    "            yield possiblePrime\n",
    "\n",
    "            \n",
    "def is_prime(n):\n",
    "    if n == 2 or n == 3: return True\n",
    "    if n < 2 or n%2 == 0: return False\n",
    "    if n < 9: return True\n",
    "    if n%3 == 0: return False\n",
    "    r = int(n**0.5)\n",
    "    f = 5\n",
    "    while f <= r:\n",
    "        if n%f == 0: return False\n",
    "        if n%(f+2) == 0: return False\n",
    "        f +=6\n",
    "    return True"
   ]
  },
  {
   "cell_type": "markdown",
   "metadata": {},
   "source": [
    "## Problem 60 - Prime pair sets\n",
    "\n",
    "The primes 3, 7, 109, and 673, are quite remarkable. By taking any two primes and concatenating them in any order the result will always be prime. For example, taking 7 and 109, both 7109 and 1097 are prime. The sum of these four primes, 792, represents the lowest sum for a set of four primes with this property.\n",
    "\n",
    "Find the lowest sum for a set of five primes for which any two primes concatenate to produce another prime."
   ]
  },
  {
   "cell_type": "code",
   "execution_count": null,
   "metadata": {},
   "outputs": [],
   "source": [
    "from itertools import permutations, combinations\n",
    "\n",
    "\n",
    "def is_remarkable_pair(p1_p2):\n",
    "    if is_prime(int(''.join(map(str, p1_p2)))):\n",
    "        if is_prime(int(''.join(map(str, p1_p2[::-1])))):\n",
    "            return True\n",
    "    return False\n",
    "\n",
    "            \n",
    "primes = tuple(generate_primes_under(10000))\n",
    "\n",
    "@timeit\n",
    "def solution(initial_no_of_primes=70):\n",
    "    result = []\n",
    "    \n",
    "    p1_p2_r_pairs = [p for p in combinations(primes[:initial_no_of_primes], 2) if is_remarkable_pair(p)]\n",
    "    for r_pair in p1_p2_r_pairs:\n",
    "        K = []\n",
    "        for prime in primes:\n",
    "            if is_remarkable_pair((r_pair[0], prime)) and is_remarkable_pair((r_pair[1], prime)):\n",
    "                K.append(prime)\n",
    "\n",
    "        k1_k2_pairs = [k for k in combinations(K, 2) if is_remarkable_pair(k)]\n",
    "        for k_pair in k1_k2_pairs:\n",
    "            for k in K:\n",
    "                if sorted((*r_pair, *k_pair, k)) in result:\n",
    "                    continue\n",
    "                if is_remarkable_pair((k_pair[0], k)) and is_remarkable_pair((k_pair[1], k)):\n",
    "                    print(*r_pair, *k_pair, k)\n",
    "                    result.append(sorted((*r_pair, *k_pair, k)))\n",
    "                    # Remove return statement if you want all solutions\n",
    "                    return result\n",
    "        \n",
    "    return result\n",
    "\n",
    "\n",
    "# [13, 5197, 5701, 6733, 8389]\n",
    "remarkable_primes = solution(1000)\n",
    "\n",
    "def test_solution(remarkable_primes):\n",
    "    for p in permutations(remarkable_primes, 2):\n",
    "        number = int(str(p[0]) + str(p[1]))\n",
    "        if not is_prime(number):\n",
    "            print(number)\n",
    "        assert is_prime(number)\n",
    "        \n",
    "(test_solution(s) for s in remarkable_primes)\n",
    "min_sum = min([sum(s) for s in remarkable_primes])\n",
    "min_r_set = [s for s in remarkable_primes if sum(s) == min_sum][0]\n",
    "    \n",
    "print(min_sum)\n",
    "print(min_r_set)\n"
   ]
  },
  {
   "cell_type": "markdown",
   "metadata": {},
   "source": []
  },
  {
   "cell_type": "markdown",
   "metadata": {},
   "source": [
    "## Problem 62 - Cubic permutations\n"
   ]
  },
  {
   "cell_type": "markdown",
   "metadata": {},
   "source": [
    "The cube, `41063625 (345^3)`, can be permuted to produce two other cubes: `56623104 (384^3)` and `66430125 (405^3)`. In fact, `41063625` is the smallest cube which has exactly three permutations of its digits which are also cube.\n",
    "\n",
    "Find the smallest cube for which exactly five permutations of its digits are cube."
   ]
  },
  {
   "cell_type": "code",
   "execution_count": null,
   "metadata": {},
   "outputs": [],
   "source": [
    "from itertools import permutations"
   ]
  },
  {
   "cell_type": "code",
   "execution_count": null,
   "metadata": {},
   "outputs": [],
   "source": [
    "cubes = [x**3 for x in range(1, 200000)]"
   ]
  },
  {
   "cell_type": "code",
   "execution_count": null,
   "metadata": {},
   "outputs": [],
   "source": [
    "@timeit\n",
    "def solution(range_x, range_y):\n",
    "    \"\"\"\n",
    "    127035954683\n",
    "    \"\"\"\n",
    "    cubes = [x**3 for x in range(range_x, range_y)]\n",
    "    for cube in cubes:\n",
    "        tmp = []\n",
    "        str_cube = str(cube)        \n",
    "        for cube_2 in cubes[cubes.index(cube) + 1:]:\n",
    "            if sorted(str(cube_2)) == sorted(str(cube)):\n",
    "                tmp.append(cube_2)\n",
    "        if len(tmp) == 4:\n",
    "            print(cube, *tmp)\n",
    "            return [cube, *tmp]\n",
    "\n",
    "    \n",
    "results = solution(2, 10000)"
   ]
  },
  {
   "cell_type": "code",
   "execution_count": null,
   "metadata": {},
   "outputs": [],
   "source": [
    "def test(cube_permutations):\n",
    "    for c in cube_permutations:\n",
    "        assert c in cubes\n",
    "    assert len({''.join(sorted(str(c))) for c in cube_permutations}) == 1\n",
    "    print('successful', cube_permutations, min(cube_permutations))\n",
    "            \n",
    "\n",
    "test(results)"
   ]
  },
  {
   "cell_type": "markdown",
   "metadata": {},
   "source": [
    "### Solution from project euler thread\n",
    "Its much more efficient than mine..."
   ]
  },
  {
   "cell_type": "code",
   "execution_count": null,
   "metadata": {},
   "outputs": [],
   "source": [
    "\n",
    "from time import process_time\n",
    "start = process_time()\n",
    "\n",
    "holder = {}\n",
    "n = 1\n",
    "while True:\n",
    "    cube = tuple(sorted(list(str(n ** 3))))\n",
    "    if cube in holder:\n",
    "        holder[cube].append(n)\n",
    "        if len(holder[cube]) == 5: # First one with 5 permutations.\n",
    "            print(f'Answer is {holder[cube][0] ** 3}. Which took {process_time() - start} seconds.')\n",
    "            break\n",
    "    else:\n",
    "        holder[cube] = [n]\n",
    "    n += 1"
   ]
  },
  {
   "cell_type": "markdown",
   "metadata": {},
   "source": [
    "## Problem 87 - Prime power triples\n",
    "\n",
    "The smallest number expressible as the sum of a prime square, prime cube, and prime fourth power is 28. In fact, there are exactly four numbers below fifty that can be expressed in such a way:\n",
    "\n",
    "```\n",
    "28 = 2^2 + 2^3 + 2^4\n",
    "33 = 3^2 + 2^3 + 2^4\n",
    "49 = 5^2 + 2^3 + 2^4\n",
    "47 = 2^2 + 3^3 + 2^4\n",
    "```\n",
    "How many numbers below fifty million can be expressed as the sum of a prime square, prime cube, and prime fourth power?"
   ]
  },
  {
   "cell_type": "code",
   "execution_count": 2,
   "metadata": {},
   "outputs": [
    {
     "name": "stdout",
     "output_type": "stream",
     "text": [
      "Number of primes it will loop through: 1,524,532\n",
      "1097343\n"
     ]
    }
   ],
   "source": [
    "from itertools import permutations \n",
    "\n",
    "N = 50000000\n",
    "p2_max = int(N**(1/2))\n",
    "p3_max = int(N**(1/3))\n",
    "p4_max = int(N**(1/4))\n",
    "\n",
    "primes_2 = list(generate_primes_under(p2_max))\n",
    "primes_3 = list(generate_primes_under(p3_max))\n",
    "primes_4 = list(generate_primes_under(p4_max))\n",
    "\n",
    "print('Number of primes it will loop through: {:,}'.format(len(primes_2)*len(primes_3)*len(primes_4)))\n",
    "\n",
    "def solution(N):\n",
    "    result = set()\n",
    "    for p2 in primes_2:\n",
    "        for p3 in primes_3:\n",
    "            for p4 in primes_4:\n",
    "                total = (p2**2) + (p3**3) + (p4**4)\n",
    "                if total <= N:\n",
    "                    result.add(total)\n",
    "#                     print(p2, p3, p4, total)\n",
    "    print(len(result))\n",
    "    \n",
    "solution(N=N)"
   ]
  },
  {
   "cell_type": "markdown",
   "metadata": {},
   "source": [
    "## Problem 63 - Powerful digit counts\n",
    "\n",
    "The 5-digit number, `16807=7^5`, is also a fifth power. Similarly, the 9-digit number, `134217728=8^9`, is a ninth power.\n",
    "\n",
    "How many n-digit positive integers exist which are also an nth power?"
   ]
  },
  {
   "cell_type": "code",
   "execution_count": 33,
   "metadata": {},
   "outputs": [
    {
     "data": {
      "text/plain": [
       "21"
      ]
     },
     "execution_count": 33,
     "metadata": {},
     "output_type": "execute_result"
    }
   ],
   "source": [
    "i = 22\n",
    "len(str(9**i))"
   ]
  },
  {
   "cell_type": "code",
   "execution_count": 28,
   "metadata": {},
   "outputs": [
    {
     "name": "stdout",
     "output_type": "stream",
     "text": [
      "49\n"
     ]
    }
   ],
   "source": [
    "\"\"\"\n",
    "Number of digits in 10^i are always greater than i e.g. when i = 2, 10^2 = 100. Hence the maximum number is 9.\n",
    "\n",
    "The maximum exponent is 21 since 9 ** 21 has 21 digits but 9 ** 22 has only 21 digits. \n",
    "\"\"\"\n",
    "counter = 0\n",
    "for x in range(1, 10):\n",
    "    for i in range(1, 22):\n",
    "        if len(str(x**i)) != i:\n",
    "            break\n",
    "        else:\n",
    "            counter += 1\n",
    "print(counter)"
   ]
  },
  {
   "cell_type": "code",
   "execution_count": null,
   "metadata": {},
   "outputs": [],
   "source": []
  },
  {
   "cell_type": "code",
   "execution_count": null,
   "metadata": {},
   "outputs": [],
   "source": []
  }
 ],
 "metadata": {
  "kernelspec": {
   "display_name": "Python 3",
   "language": "python",
   "name": "python3"
  },
  "language_info": {
   "codemirror_mode": {
    "name": "ipython",
    "version": 3
   },
   "file_extension": ".py",
   "mimetype": "text/x-python",
   "name": "python",
   "nbconvert_exporter": "python",
   "pygments_lexer": "ipython3",
   "version": "3.6.5"
  }
 },
 "nbformat": 4,
 "nbformat_minor": 2
}
