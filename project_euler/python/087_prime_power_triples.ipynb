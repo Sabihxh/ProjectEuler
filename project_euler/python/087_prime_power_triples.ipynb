{
 "cells": [
  {
   "cell_type": "markdown",
   "metadata": {},
   "source": [
    "## Prime power triples\n",
    "   \n",
    "**Problem 87**\n",
    "\n",
    "The smallest number expressible as the sum of a prime square, prime cube, and prime fourth power is 28. In fact, there are exactly four numbers below fifty that can be expressed in such a way:\n",
    "\n",
    "    28 = 2^2 + 2^3 + 2^4\n",
    "    33 = 3^2 + 2^3 + 2^4\n",
    "    49 = 5^2 + 2^3 + 2^4\n",
    "    47 = 2^2 + 3^3 + 2^4\n",
    "\n",
    "How many numbers below fifty million can be expressed as the sum of a prime square, prime cube, and prime fourth power?"
   ]
  },
  {
   "cell_type": "code",
   "execution_count": 4,
   "metadata": {},
   "outputs": [],
   "source": [
    "import math\n",
    "\n",
    "from utils import generate_primes_under"
   ]
  },
  {
   "cell_type": "code",
   "execution_count": 67,
   "metadata": {},
   "outputs": [
    {
     "name": "stdout",
     "output_type": "stream",
     "text": [
      "1097343\n"
     ]
    }
   ],
   "source": [
    "def solution(LIMIT: int = 50_000_000):\n",
    "    x_max = int(math.sqrt(LIMIT - 24))\n",
    "    primes_x = list(generate_primes_under(x_max))\n",
    "\n",
    "    tracker = set()\n",
    "    for x in primes_x:\n",
    "        y_max = (LIMIT - (x**2) - 16) ** (1/3)\n",
    "        primes_y = [p for p in primes_x if p <= y_max]\n",
    "        for y in primes_y:\n",
    "            z_max = (LIMIT - ((x ** 2) + (y**3))) ** (1/4)\n",
    "            primes_z = [p for p in primes_y if p <= z_max]\n",
    "            for z in primes_z:\n",
    "                total_sum = ((x**2) + (y**3) + (z**4))\n",
    "                tracker.add(total_sum)\n",
    "    print(len(tracker))\n",
    "\n",
    "solution()"
   ]
  },
  {
   "cell_type": "code",
   "execution_count": null,
   "metadata": {},
   "outputs": [],
   "source": []
  }
 ],
 "metadata": {
  "kernelspec": {
   "display_name": "Python 3",
   "language": "python",
   "name": "python3"
  },
  "language_info": {
   "codemirror_mode": {
    "name": "ipython",
    "version": 3
   },
   "file_extension": ".py",
   "mimetype": "text/x-python",
   "name": "python",
   "nbconvert_exporter": "python",
   "pygments_lexer": "ipython3",
   "version": "3.11.4"
  }
 },
 "nbformat": 4,
 "nbformat_minor": 2
}
