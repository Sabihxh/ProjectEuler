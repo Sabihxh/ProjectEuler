{
 "cells": [
  {
   "cell_type": "markdown",
   "metadata": {},
   "source": [
    "### Problem 66: Diophantine equation\n",
    "\n",
    "<p>Consider quadratic Diophantine equations of the form:</p>\n",
    "<p class=\"margin_left\"><i>x</i><sup>2</sup> – D<i>y</i><sup>2</sup> = 1</p>\n",
    "<p>For example, when D=13, the minimal solution in <i>x</i> is 649<sup>2</sup> – 13×180<sup>2</sup> = 1.</p>\n",
    "<p>It can be assumed that there are no solutions in positive integers when D is square.</p>\n",
    "<p>By finding minimal solutions in <i>x</i> for D = {2, 3, 5, 6, 7}, we obtain the following:</p>\n",
    "<p class=\"margin_left\">3<sup>2</sup> – 2×2<sup>2</sup> = 1<br />\n",
    "2<sup>2</sup> – 3×1<sup>2</sup> = 1<br /><span class=\"red strong\">9</span><sup>2</sup> – 5×4<sup>2</sup> = 1<br />\n",
    "5<sup>2</sup> – 6×2<sup>2</sup> = 1<br />\n",
    "8<sup>2</sup> – 7×3<sup>2</sup> = 1</p>\n",
    "<p>Hence, by considering minimal solutions in <i>x</i> for D ≤ 7, the largest <i>x</i> is obtained when D=5.</p>\n",
    "<p>Find the value of D ≤ 1000 in minimal solutions of <i>x</i> for which the largest value of <i>x</i> is obtained.</p>\n"
   ]
  },
  {
   "cell_type": "markdown",
   "metadata": {},
   "source": [
    "#### Notes:\n",
    "\n",
    "<p class=\"margin_left\"><i>x</i><sup>2</sup> – D<i>y</i><sup>2</sup> = 1</p> is Pell's equation."
   ]
  },
  {
   "cell_type": "code",
   "execution_count": 36,
   "metadata": {},
   "outputs": [],
   "source": [
    "import requests"
   ]
  },
  {
   "cell_type": "markdown",
   "metadata": {},
   "source": [
    "The first continued fraction expansion $\\frac{p_1}{q_1}$ of $\\sqrt{d}$ is the fundamental solution to the Pell's equation $x^2 - dy^2=1$, where $x=p_1$ and $y=q_1$.\n",
    "\n",
    "More Formally: \n",
    "\n",
    "**Theorem 2.6.** Let variables be as defined in the previous theorem. Let l be the\n",
    "minimal period of the continued fraction of $\\sqrt{d}$. (a) The minimal solution to Pell’s\n",
    "equation is:\n",
    "\n",
    "$(x_1,y_1) = (p_{l−1}, q_{l−1})$ if l is even, $(p_{2l−1}, q_{2l−1})$ if l is odd.\n",
    "\n",
    "**Proof:**\n",
    "https://www.math.uchicago.edu/~may/VIGRE/VIGRE2008/REUPapers/Yang.pdf (Page 10)"
   ]
  },
  {
   "cell_type": "code",
   "execution_count": 60,
   "metadata": {},
   "outputs": [
    {
     "data": {
      "text/plain": [
       "(661, 16421658242965910275055840472270471049)"
      ]
     },
     "execution_count": 60,
     "metadata": {},
     "output_type": "execute_result"
    }
   ],
   "source": [
    "def get_max_d_x():\n",
    "    \"\"\"\n",
    "    List of solutions to Pell's equation.\n",
    "    https://oeis.org/A002350\n",
    "    \"\"\"\n",
    "    response = requests.get('https://oeis.org/A002350/b002350.txt')\n",
    "\n",
    "    max_x = 0\n",
    "    max_d = 0\n",
    "\n",
    "    for t in response.text.split('\\n')[1:]:\n",
    "        d, x = t.split(' ')\n",
    "        d, x = int(d), int(x)\n",
    "        if x > max_x:\n",
    "            max_x = x\n",
    "            max_d = d\n",
    "\n",
    "        if d > 1000:\n",
    "            break\n",
    "    return max_d, max_x\n",
    "\n",
    "get_max_d_x()"
   ]
  },
  {
   "cell_type": "code",
   "execution_count": 66,
   "metadata": {},
   "outputs": [],
   "source": [
    "def continued_fraction(d, n=1):\n",
    "    \"\"\"\n",
    "    returns nth convergents (p_n, q_n) of continued fraction expansion of sqrt(d),\n",
    "    where d is not a square number.\n",
    "    \n",
    "    \"\"\"\n",
    "    \n",
    "    pass\n",
    "\n",
    "continued_fraction(d=2)"
   ]
  },
  {
   "cell_type": "code",
   "execution_count": null,
   "metadata": {},
   "outputs": [],
   "source": []
  },
  {
   "cell_type": "code",
   "execution_count": null,
   "metadata": {},
   "outputs": [],
   "source": []
  },
  {
   "cell_type": "code",
   "execution_count": null,
   "metadata": {},
   "outputs": [],
   "source": []
  },
  {
   "cell_type": "code",
   "execution_count": null,
   "metadata": {},
   "outputs": [],
   "source": []
  },
  {
   "cell_type": "code",
   "execution_count": null,
   "metadata": {},
   "outputs": [],
   "source": []
  }
 ],
 "metadata": {
  "kernelspec": {
   "display_name": "Python 3",
   "language": "python",
   "name": "python3"
  },
  "language_info": {
   "codemirror_mode": {
    "name": "ipython",
    "version": 3
   },
   "file_extension": ".py",
   "mimetype": "text/x-python",
   "name": "python",
   "nbconvert_exporter": "python",
   "pygments_lexer": "ipython3",
   "version": "3.7.6"
  }
 },
 "nbformat": 4,
 "nbformat_minor": 4
}
