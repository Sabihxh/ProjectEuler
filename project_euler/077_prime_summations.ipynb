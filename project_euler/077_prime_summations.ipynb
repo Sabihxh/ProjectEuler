{
 "cells": [
  {
   "cell_type": "markdown",
   "metadata": {},
   "source": [
    "### Problem 77: Prime summations\n",
    "\n",
    "<p>It is possible to write ten as the sum of primes in exactly five different ways:</p>\n",
    "<p class=\"margin_left\">7 + 3<br />\n",
    "5 + 5<br />\n",
    "5 + 3 + 2<br />\n",
    "3 + 3 + 2 + 2<br />\n",
    "2 + 2 + 2 + 2 + 2</p>\n",
    "<p>What is the first value which can be written as the sum of primes in over five thousand different ways?</p>\n"
   ]
  },
  {
   "cell_type": "code",
   "execution_count": 2,
   "metadata": {},
   "outputs": [
    {
     "name": "stdout",
     "output_type": "stream",
     "text": [
      "(71, 5007.0)\n"
     ]
    }
   ],
   "source": [
    "from sympy import primefactors\n",
    "\n",
    "\n",
    "def prime_summations(no_of_partitions):\n",
    "    \"\"\"\n",
    "    Gives n such that the number of prime partitions\n",
    "    of n is >= no_of_partitions\n",
    "\n",
    "    n has a limit of 1000.\n",
    "    i.e. no_of_partitions <= 10 quadrillion\n",
    "    \"\"\"\n",
    "    l = [1, 0]\n",
    "    for n in range(2, 1000):\n",
    "        prime_partitions = sum([sum(primefactors(k))*l[n - k] for k in range(1, n + 1)])/n\n",
    "        l.append(prime_partitions)\n",
    "        if prime_partitions > no_of_partitions:\n",
    "            return n, prime_partitions\n",
    "            \n",
    "print(prime_summations(5000))"
   ]
  },
  {
   "cell_type": "code",
   "execution_count": null,
   "metadata": {},
   "outputs": [],
   "source": []
  }
 ],
 "metadata": {
  "kernelspec": {
   "display_name": "Python 3",
   "language": "python",
   "name": "python3"
  },
  "language_info": {
   "codemirror_mode": {
    "name": "ipython",
    "version": 3
   },
   "file_extension": ".py",
   "mimetype": "text/x-python",
   "name": "python",
   "nbconvert_exporter": "python",
   "pygments_lexer": "ipython3",
   "version": "3.7.6"
  }
 },
 "nbformat": 4,
 "nbformat_minor": 4
}
