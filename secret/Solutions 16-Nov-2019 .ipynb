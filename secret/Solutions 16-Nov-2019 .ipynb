{
 "cells": [
  {
   "cell_type": "markdown",
   "metadata": {},
   "source": [
    "## Problem 60 - Prime pair sets\n",
    "\n",
    "The primes 3, 7, 109, and 673, are quite remarkable. By taking any two primes and concatenating them in any order the result will always be prime. For example, taking 7 and 109, both 7109 and 1097 are prime. The sum of these four primes, 792, represents the lowest sum for a set of four primes with this property.\n",
    "\n",
    "Find the lowest sum for a set of five primes for which any two primes concatenate to produce another prime."
   ]
  },
  {
   "cell_type": "code",
   "execution_count": 1,
   "metadata": {},
   "outputs": [],
   "source": [
    "from itertools import permutations, combinations\n",
    "\n",
    "from pixie.utils import timeit\n",
    "from pixie.primes import generate_primes_under"
   ]
  },
  {
   "cell_type": "code",
   "execution_count": 2,
   "metadata": {},
   "outputs": [],
   "source": [
    "def is_prime(n):\n",
    "    if n == 2 or n == 3: return True\n",
    "    if n < 2 or n%2 == 0: return False\n",
    "    if n < 9: return True\n",
    "    if n%3 == 0: return False\n",
    "    r = int(n**0.5)\n",
    "    f = 5\n",
    "    while f <= r:\n",
    "        if n%f == 0: return False\n",
    "        if n%(f+2) == 0: return False\n",
    "        f +=6\n",
    "    return True"
   ]
  },
  {
   "cell_type": "code",
   "execution_count": 3,
   "metadata": {},
   "outputs": [],
   "source": [
    "@timeit\n",
    "def solution(no_of_primes=10000):\n",
    "    result = []\n",
    "    primes = tuple(generate_primes_under(no_of_primes))\n",
    "    p_primes, q_primes = tuple(generate_primes_under(200)), tuple(generate_primes_under(500))\n",
    "    pairs = get_pairs(p_primes, q_primes)\n",
    "    r_prime_pairs = [(p, q) for p, q in pairs if is_prime_pair(p, q)]\n",
    "    \n",
    "    \n",
    "    result = r_prime_pairs     \n",
    "    return result"
   ]
  },
  {
   "cell_type": "code",
   "execution_count": 41,
   "metadata": {},
   "outputs": [],
   "source": [
    "def concat_numbers(n1, n2):\n",
    "    return int(str(n1) + str(n2))\n",
    "\n",
    "\n",
    "def is_remarkable_pair(p1_p2):\n",
    "    if is_prime(int(''.join(map(str, p1_p2)))):\n",
    "        if is_prime(int(''.join(map(str, p1_p2[::-1])))):\n",
    "            return True\n",
    "    return False\n",
    "\n",
    "\n",
    "def get_smallest_prime_pair(primes):\n",
    "    for x in combinations(primes, 2):\n",
    "        if is_prime(concat_numbers(x[0], x[1])):\n",
    "            if is_prime(concat_numbers(x[1], x[0])):\n",
    "                return x\n",
    "\n",
    "            \n",
    "def get_pairs(p_primes, q_primes):\n",
    "    result = []\n",
    "    for p in p_primes:\n",
    "        for q in q_primes:\n",
    "            if p != q and p!=2 and q!=2 and p!=5 and q!=5:\n",
    "                pair = sorted((p, q))\n",
    "                if pair not in result:\n",
    "                    result.append(pair)\n",
    "    return result\n",
    "\n",
    "\n",
    "primes_under = 10000\n",
    "primes = tuple(generate_primes_under(primes_under))\n",
    "\n",
    "@timeit\n",
    "def solution(initial_no_of_primes=70):\n",
    "    result = []\n",
    "    \n",
    "    p1_p2_r_pairs = [p for p in combinations(primes[:initial_no_of_primes], 2) if is_remarkable_pair(p)]\n",
    "    for r_pair in p1_p2_r_pairs:\n",
    "        K = []\n",
    "        for prime in primes:\n",
    "            if is_remarkable_pair((r_pair[0], prime)) and is_remarkable_pair((r_pair[1], prime)):\n",
    "                K.append(prime)\n",
    "\n",
    "        k1_k2_pairs = [k for k in combinations(K, 2) if is_remarkable_pair(k)]\n",
    "        for k_pair in k1_k2_pairs:\n",
    "            for k in K:\n",
    "                if is_remarkable_pair((k_pair[0], k)) and is_remarkable_pair((k_pair[1], k)):\n",
    "                    print(r_pair, k_pair, k)\n",
    "                    result.append((*r_pair, *k_pair, k))\n",
    "        \n",
    "    return result\n"
   ]
  },
  {
   "cell_type": "code",
   "execution_count": 42,
   "metadata": {},
   "outputs": [
    {
     "name": "stdout",
     "output_type": "stream",
     "text": [
      "(13, 5197) (5701, 6733) 8389\n",
      "(13, 5197) (5701, 8389) 6733\n",
      "(13, 5197) (6733, 8389) 5701\n",
      "(13, 5701) (5197, 6733) 8389\n",
      "(13, 5701) (5197, 8389) 6733\n",
      "(13, 5701) (6733, 8389) 5197\n",
      "(13, 6733) (5197, 5701) 8389\n",
      "(13, 6733) (5197, 8389) 5701\n",
      "(13, 6733) (5701, 8389) 5197\n",
      "(5197, 5701) (13, 6733) 8389\n",
      "(5197, 5701) (13, 8389) 6733\n",
      "(5197, 5701) (6733, 8389) 13\n",
      "(5197, 6733) (13, 5701) 8389\n",
      "(5197, 6733) (13, 8389) 5701\n",
      "(5197, 6733) (5701, 8389) 13\n",
      "(5701, 6733) (13, 5197) 8389\n",
      "(5701, 6733) (13, 8389) 5197\n",
      "(5701, 6733) (5197, 8389) 13\n",
      "'solution'  425160.73 ms\n"
     ]
    }
   ],
   "source": [
    "remarkable_primes = solution(1000)"
   ]
  },
  {
   "cell_type": "code",
   "execution_count": 40,
   "metadata": {},
   "outputs": [
    {
     "name": "stdout",
     "output_type": "stream",
     "text": [
      "94621\n",
      "(11, 239, 11057, 21011, 62303)\n"
     ]
    }
   ],
   "source": [
    "def test_solution(remarkable_primes):\n",
    "    for p in permutations(remarkable_primes, 2):\n",
    "        number = int(str(p[0]) + str(p[1]))\n",
    "        if not is_prime(number):\n",
    "            print(number)\n",
    "        assert is_prime(number)\n",
    "        \n",
    "(test_solution(s) for s in remarkable_primes)\n",
    "min_sum = min([sum(s) for s in remarkable_primes])\n",
    "min_r_set = [s for s in remarkable_primes if sum(s) == min_sum][0]\n",
    "    \n",
    "print(min_sum)\n",
    "print(min_r_set)"
   ]
  },
  {
   "cell_type": "code",
   "execution_count": null,
   "metadata": {},
   "outputs": [],
   "source": []
  },
  {
   "cell_type": "code",
   "execution_count": null,
   "metadata": {},
   "outputs": [],
   "source": []
  },
  {
   "cell_type": "code",
   "execution_count": null,
   "metadata": {},
   "outputs": [],
   "source": []
  },
  {
   "cell_type": "code",
   "execution_count": null,
   "metadata": {},
   "outputs": [],
   "source": []
  }
 ],
 "metadata": {
  "kernelspec": {
   "display_name": "Python 3",
   "language": "python",
   "name": "python3"
  },
  "language_info": {
   "codemirror_mode": {
    "name": "ipython",
    "version": 3
   },
   "file_extension": ".py",
   "mimetype": "text/x-python",
   "name": "python",
   "nbconvert_exporter": "python",
   "pygments_lexer": "ipython3",
   "version": "3.6.5"
  }
 },
 "nbformat": 4,
 "nbformat_minor": 2
}
