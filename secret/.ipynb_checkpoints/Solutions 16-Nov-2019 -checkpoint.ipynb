{
 "cells": [
  {
   "cell_type": "markdown",
   "metadata": {},
   "source": [
    "## Problem 60 - Prime pair sets\n",
    "\n",
    "The primes 3, 7, 109, and 673, are quite remarkable. By taking any two primes and concatenating them in any order the result will always be prime. For example, taking 7 and 109, both 7109 and 1097 are prime. The sum of these four primes, 792, represents the lowest sum for a set of four primes with this property.\n",
    "\n",
    "Find the lowest sum for a set of five primes for which any two primes concatenate to produce another prime."
   ]
  },
  {
   "cell_type": "code",
   "execution_count": 3,
   "metadata": {},
   "outputs": [],
   "source": [
    "from itertools import permutations, combinations\n",
    "\n",
    "from pixie.utils import timeit\n",
    "from pixie.primes import generate_primes_under"
   ]
  },
  {
   "cell_type": "code",
   "execution_count": 4,
   "metadata": {},
   "outputs": [],
   "source": [
    "def is_prime(n):\n",
    "    if n == 2 or n == 3: return True\n",
    "    if n < 2 or n%2 == 0: return False\n",
    "    if n < 9: return True\n",
    "    if n%3 == 0: return False\n",
    "    r = int(n**0.5)\n",
    "    f = 5\n",
    "    while f <= r:\n",
    "        if n%f == 0: return False\n",
    "        if n%(f+2) == 0: return False\n",
    "        f +=6\n",
    "    return True"
   ]
  },
  {
   "cell_type": "code",
   "execution_count": 17,
   "metadata": {},
   "outputs": [],
   "source": [
    "def is_remarkable_pair(p1_p2):\n",
    "    if is_prime(int(''.join(map(str, p1_p2)))):\n",
    "        if is_prime(int(''.join(map(str, p1_p2[::-1])))):\n",
    "            return True\n",
    "    return False\n",
    "\n",
    "            \n",
    "primes = tuple(generate_primes_under(10000))\n",
    "\n",
    "@timeit\n",
    "def solution(initial_no_of_primes=70):\n",
    "    result = []\n",
    "    \n",
    "    p1_p2_r_pairs = [p for p in combinations(primes[:initial_no_of_primes], 2) if is_remarkable_pair(p)]\n",
    "    for r_pair in p1_p2_r_pairs:\n",
    "        K = []\n",
    "        for prime in primes:\n",
    "            if is_remarkable_pair((r_pair[0], prime)) and is_remarkable_pair((r_pair[1], prime)):\n",
    "                K.append(prime)\n",
    "\n",
    "        k1_k2_pairs = [k for k in combinations(K, 2) if is_remarkable_pair(k)]\n",
    "        for k_pair in k1_k2_pairs:\n",
    "            for k in K:\n",
    "                if sorted((*r_pair, *k_pair, k)) in result:\n",
    "                    continue\n",
    "                if is_remarkable_pair((k_pair[0], k)) and is_remarkable_pair((k_pair[1], k)):\n",
    "                    print(*r_pair, *k_pair, k)\n",
    "                    result.append(sorted((*r_pair, *k_pair, k)))\n",
    "                    # Remove return statement if you want all 5 pairs\n",
    "                    return result\n",
    "        \n",
    "    return result\n"
   ]
  },
  {
   "cell_type": "code",
   "execution_count": 18,
   "metadata": {},
   "outputs": [
    {
     "name": "stdout",
     "output_type": "stream",
     "text": [
      "13 5197 5701 6733 8389\n",
      "'solution'  17157.02 ms\n"
     ]
    }
   ],
   "source": [
    "remarkable_primes = solution(1000)"
   ]
  },
  {
   "cell_type": "code",
   "execution_count": null,
   "metadata": {},
   "outputs": [],
   "source": [
    "def test_solution(remarkable_primes):\n",
    "    for p in permutations(remarkable_primes, 2):\n",
    "        number = int(str(p[0]) + str(p[1]))\n",
    "        if not is_prime(number):\n",
    "            print(number)\n",
    "        assert is_prime(number)\n",
    "        \n",
    "(test_solution(s) for s in remarkable_primes)\n",
    "min_sum = min([sum(s) for s in remarkable_primes])\n",
    "min_r_set = [s for s in remarkable_primes if sum(s) == min_sum][0]\n",
    "    \n",
    "print(min_sum)\n",
    "print(min_r_set)"
   ]
  },
  {
   "cell_type": "code",
   "execution_count": null,
   "metadata": {},
   "outputs": [],
   "source": []
  },
  {
   "cell_type": "code",
   "execution_count": null,
   "metadata": {},
   "outputs": [],
   "source": []
  }
 ],
 "metadata": {
  "kernelspec": {
   "display_name": "Python 3",
   "language": "python",
   "name": "python3"
  },
  "language_info": {
   "codemirror_mode": {
    "name": "ipython",
    "version": 3
   },
   "file_extension": ".py",
   "mimetype": "text/x-python",
   "name": "python",
   "nbconvert_exporter": "python",
   "pygments_lexer": "ipython3",
   "version": "3.6.5"
  }
 },
 "nbformat": 4,
 "nbformat_minor": 2
}
