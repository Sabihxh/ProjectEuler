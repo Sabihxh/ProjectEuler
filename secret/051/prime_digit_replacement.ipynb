{
 "cells": [
  {
   "cell_type": "code",
   "execution_count": 1,
   "metadata": {},
   "outputs": [
    {
     "ename": "ModuleNotFoundError",
     "evalue": "No module named 'pixie'",
     "output_type": "error",
     "traceback": [
      "\u001b[0;31m---------------------------------------------------------------------------\u001b[0m",
      "\u001b[0;31mModuleNotFoundError\u001b[0m                       Traceback (most recent call last)",
      "\u001b[0;32m<ipython-input-1-5d63d6775d8f>\u001b[0m in \u001b[0;36m<module>\u001b[0;34m\u001b[0m\n\u001b[1;32m      4\u001b[0m \u001b[0;32mimport\u001b[0m \u001b[0mtime\u001b[0m\u001b[0;34m\u001b[0m\u001b[0;34m\u001b[0m\u001b[0m\n\u001b[1;32m      5\u001b[0m \u001b[0;34m\u001b[0m\u001b[0m\n\u001b[0;32m----> 6\u001b[0;31m \u001b[0;32mfrom\u001b[0m \u001b[0mpixie\u001b[0m\u001b[0;34m.\u001b[0m\u001b[0mprimes\u001b[0m \u001b[0;32mimport\u001b[0m \u001b[0mgenerate_primes_under\u001b[0m\u001b[0;34m\u001b[0m\u001b[0;34m\u001b[0m\u001b[0m\n\u001b[0m\u001b[1;32m      7\u001b[0m \u001b[0;32mfrom\u001b[0m \u001b[0mpixie\u001b[0m\u001b[0;34m.\u001b[0m\u001b[0mutilities\u001b[0m \u001b[0;32mimport\u001b[0m \u001b[0mtimeit\u001b[0m\u001b[0;34m\u001b[0m\u001b[0;34m\u001b[0m\u001b[0m\n\u001b[1;32m      8\u001b[0m \u001b[0;34m\u001b[0m\u001b[0m\n",
      "\u001b[0;31mModuleNotFoundError\u001b[0m: No module named 'pixie'"
     ]
    }
   ],
   "source": [
    "from itertools import combinations \n",
    "import pickle\n",
    "import math\n",
    "import time\n",
    "\n",
    "from pixie.primes import generate_primes_under\n",
    "from pixie.utilities import timeit\n",
    "\n",
    "\n",
    "@timeit\n",
    "def pickle_load():\n",
    "\twith open('primes_10,000,000.pkl', 'rb') as f:\n",
    "\t\treturn pickle.load(f)\n",
    "\n",
    "\n",
    "all_primes = pickle_load()\n",
    "\n",
    "\n",
    "@timeit\n",
    "def n_digit_primes(all_primes, n=2):\n",
    "\treturn [x for x in all_primes if (len(str(x)) == n)]\n",
    "\n",
    "\n",
    "@timeit\n",
    "def solution(prime_digits=6, replace_digits=3, target_prime_family=8):\n",
    "\tm = {}\n",
    "\tprimes = n_digit_primes(all_primes, n=prime_digits)\n",
    "\tfor prime in primes:\n",
    "\t\tprime_list = list(str(prime))\n",
    "\t\tdigits = len(prime_list)\n",
    "\t\tfor positions in combinations(range(digits), replace_digits):\n",
    "\t\t\ttmp_prime = prime_list.copy()\n",
    "\t\t\tfor position in positions:\n",
    "\t\t\t\ttmp_prime[position] = '*'\n",
    "\n",
    "\t\t\tif len(set([prime_list[p] for p in positions])) == 1:\n",
    "\t\t\t\tprime_str = ''.join(tmp_prime)\n",
    "\t\t\t\tif prime_str not in m:\n",
    "\t\t\t\t\tm[prime_str] = []\n",
    "\n",
    "\t\t\t\tm[prime_str].append(prime)\n",
    "\n",
    "\tfor k, v in m.items():\n",
    "\t\tif len(v) == target_prime_family:\n",
    "\t\t\tprint(v)\n",
    "\t\t\treturn v[0]\n",
    "\n",
    "\n",
    "solution(prime_digits=5, replace_digits=1, target_prime_family=6)\n",
    "solution(prime_digits=5, replace_digits=2, target_prime_family=7)\n",
    "solution(prime_digits=6, replace_digits=3, target_prime_family=8)\n",
    "\n",
    "\n",
    "\n",
    "\n",
    "\n",
    "\n",
    "\n",
    "\n"
   ]
  },
  {
   "cell_type": "code",
   "execution_count": null,
   "metadata": {},
   "outputs": [],
   "source": []
  }
 ],
 "metadata": {
  "kernelspec": {
   "display_name": "Python 3",
   "language": "python",
   "name": "python3"
  },
  "language_info": {
   "codemirror_mode": {
    "name": "ipython",
    "version": 3
   },
   "file_extension": ".py",
   "mimetype": "text/x-python",
   "name": "python",
   "nbconvert_exporter": "python",
   "pygments_lexer": "ipython3",
   "version": "3.7.6"
  }
 },
 "nbformat": 4,
 "nbformat_minor": 4
}
