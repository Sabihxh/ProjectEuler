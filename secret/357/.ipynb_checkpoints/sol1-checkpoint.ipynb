{
 "cells": [
  {
   "cell_type": "code",
   "execution_count": 38,
   "metadata": {},
   "outputs": [],
   "source": [
    "from datetime import datetime\n",
    "import numpy as np\n",
    "import pandas as pd"
   ]
  },
  {
   "cell_type": "code",
   "execution_count": 39,
   "metadata": {},
   "outputs": [],
   "source": [
    "NUM = 100000000\n",
    "NUM_TEST = 50000"
   ]
  },
  {
   "cell_type": "code",
   "execution_count": 40,
   "metadata": {},
   "outputs": [],
   "source": [
    "def get_primes(n):\n",
    "    m = n+1\n",
    "    numbers = [True] * m\n",
    "    for i in range(2, int(n**0.5 + 1)):\n",
    "        if numbers[i]:\n",
    "            for j in range(i*i, m, i):\n",
    "                numbers[j] = False\n",
    "    primes = []\n",
    "    for i in range(2, m):\n",
    "        if numbers[i]:\n",
    "            primes.append(i)\n",
    "    return primes"
   ]
  },
  {
   "cell_type": "code",
   "execution_count": 41,
   "metadata": {},
   "outputs": [],
   "source": [
    "primes = set(get_primes(NUM_TEST))"
   ]
  },
  {
   "cell_type": "code",
   "execution_count": 42,
   "metadata": {},
   "outputs": [],
   "source": [
    "def proper_divs2(n):\n",
    "    return {x for x in range(1, (n + 1) // 2 + 1) if n % x == 0 and n != x}"
   ]
  },
  {
   "cell_type": "code",
   "execution_count": null,
   "metadata": {},
   "outputs": [],
   "source": [
    "start = datetime.now()\n",
    "result = []\n",
    "for p in primes:\n",
    "    n = p - 1\n",
    "    divs = proper_divs2(n)\n",
    "    for div in divs:\n",
    "        if div + (n/div) not in primes:\n",
    "            break\n",
    "    else:\n",
    "        result.append(n)\n",
    "\n",
    "end = datetime.now()\n",
    "datetime.strftime(end - start, '%M%S')"
   ]
  },
  {
   "cell_type": "code",
   "execution_count": 35,
   "metadata": {},
   "outputs": [
    {
     "name": "stdout",
     "output_type": "stream",
     "text": [
      "3205375\n"
     ]
    }
   ],
   "source": [
    "datetime"
   ]
  },
  {
   "cell_type": "code",
   "execution_count": 36,
   "metadata": {},
   "outputs": [
    {
     "data": {
      "text/plain": [
       "[1, 2, 6, 10, 22, 8218, 30, 42, 58, 70]"
      ]
     },
     "execution_count": 36,
     "metadata": {},
     "output_type": "execute_result"
    }
   ],
   "source": [
    "result[:10]"
   ]
  },
  {
   "cell_type": "code",
   "execution_count": null,
   "metadata": {},
   "outputs": [],
   "source": []
  }
 ],
 "metadata": {
  "kernelspec": {
   "display_name": "Python 3",
   "language": "python",
   "name": "python3"
  },
  "language_info": {
   "codemirror_mode": {
    "name": "ipython",
    "version": 3
   },
   "file_extension": ".py",
   "mimetype": "text/x-python",
   "name": "python",
   "nbconvert_exporter": "python",
   "pygments_lexer": "ipython3",
   "version": "3.6.5"
  }
 },
 "nbformat": 4,
 "nbformat_minor": 2
}
